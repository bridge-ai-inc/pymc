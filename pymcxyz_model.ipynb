{
 "cells": [
  {
   "cell_type": "code",
   "execution_count": 1,
   "metadata": {},
   "outputs": [],
   "source": [
    "# data manipulation and visualization\n",
    "import pandas as pd\n",
    "import numpy as np\n",
    "import matplotlib.pyplot as plt\n",
    "%matplotlib inline\n",
    "import plotly.offline as po\n",
    "import plotly.graph_objs as go\n",
    "\n",
    "# run external scripts\n",
    "import matlab.engine as mateng\n",
    "import os\n",
    "from shutil import copyfile\n",
    "import argparse\n",
    "from tqdm import tqdm_notebook\n",
    "import cv2\n",
    "\n",
    "import time\n",
    "from multiprocessing import Pool"
   ]
  },
  {
   "cell_type": "markdown",
   "metadata": {},
   "source": [
    "#### Start an instance of MATLAB on the background\n",
    "\n",
    "**Note**: \n",
    "- Can only get output from a function, in that case set `nargout` to the number of expected output arguments. Parse args like so: `t = eng.gcd(100.0,80.0,nargout=3)`\n",
    "- Else set `nargout` to 0. In this case, any output will be displayed on terminal."
   ]
  },
  {
   "cell_type": "code",
   "execution_count": 6,
   "metadata": {},
   "outputs": [
    {
     "name": "stdout",
     "output_type": "stream",
     "text": [
      "6 AND 0\n"
     ]
    }
   ],
   "source": [
    "MAX_NUM_CORES_TO_USE = int(os.cpu_count()/2)\n",
    "print(MAX_NUM_CORES_TO_USE, 'AND', 4//MAX_NUM_CORES_TO_USE)"
   ]
  },
  {
   "cell_type": "code",
   "execution_count": null,
   "metadata": {},
   "outputs": [],
   "source": [
    "# test matlab.engine\n",
    "eng = mateng.start_matlab()\n",
    "eng.test_script(nargout=0)   # run maketissue.m \n",
    "eng.quit()"
   ]
  },
  {
   "cell_type": "code",
   "execution_count": null,
   "metadata": {},
   "outputs": [],
   "source": [
    "eng = mateng.start_matlab()\n",
    "\n",
    "for i in range(len(tissuelist)):\n",
    "    #tissue = tissuelist[i]\n",
    "    #cmd = './mcxyz ' + tissue \n",
    "    eng.test_script(nargout=0)   # run maketissue.m \n",
    "    #print('error code:', d, '...no errors!')\n",
    "    #if d != 0:\n",
    "        #print('error code:', d, '...exiting computation')\n",
    "        #break\n",
    "eng.quit()"
   ]
  },
  {
   "cell_type": "code",
   "execution_count": 24,
   "metadata": {},
   "outputs": [
    {
     "name": "stdout",
     "output_type": "stream",
     "text": [
      "<class 'bytes'>\n"
     ]
    }
   ],
   "source": [
    "# tissue_vox = np.genfromtxt('skinvessel-500_T.bin')\n",
    "with open(\"skinvessel-500_T.bin\", \"rb\") as binary_file:\n",
    "    # Read the whole file at once\n",
    "    data = binary_file.read()\n",
    "    print(type(data))"
   ]
  },
  {
   "cell_type": "code",
   "execution_count": 75,
   "metadata": {},
   "outputs": [
    {
     "name": "stdout",
     "output_type": "stream",
     "text": [
      "<class 'numpy.ndarray'> , data shape:  (8000000,)\n"
     ]
    },
    {
     "data": {
      "text/html": [
       "<div>\n",
       "<style scoped>\n",
       "    .dataframe tbody tr th:only-of-type {\n",
       "        vertical-align: middle;\n",
       "    }\n",
       "\n",
       "    .dataframe tbody tr th {\n",
       "        vertical-align: top;\n",
       "    }\n",
       "\n",
       "    .dataframe thead th {\n",
       "        text-align: right;\n",
       "    }\n",
       "</style>\n",
       "<table border=\"1\" class=\"dataframe\">\n",
       "  <thead>\n",
       "    <tr style=\"text-align: right;\">\n",
       "      <th></th>\n",
       "      <th>0</th>\n",
       "    </tr>\n",
       "  </thead>\n",
       "  <tbody>\n",
       "    <tr>\n",
       "      <th>3285391</th>\n",
       "      <td>4</td>\n",
       "    </tr>\n",
       "    <tr>\n",
       "      <th>1322556</th>\n",
       "      <td>4</td>\n",
       "    </tr>\n",
       "    <tr>\n",
       "      <th>1935390</th>\n",
       "      <td>4</td>\n",
       "    </tr>\n",
       "  </tbody>\n",
       "</table>\n",
       "</div>"
      ],
      "text/plain": [
       "         0\n",
       "3285391  4\n",
       "1322556  4\n",
       "1935390  4"
      ]
     },
     "execution_count": 75,
     "metadata": {},
     "output_type": "execute_result"
    }
   ],
   "source": [
    "dt = np.ubyte \n",
    "data = np.fromfile(b\"skinvessel-500_T.bin\", dtype=dt)\n",
    "print(type(data), ', data shape: ', data.shape)\n",
    "\n",
    "df = pd.DataFrame(data, columns=data.dtype.names)\n",
    "df.sample(3) #df.head(7)"
   ]
  },
  {
   "cell_type": "code",
   "execution_count": 41,
   "metadata": {},
   "outputs": [
    {
     "name": "stdout",
     "output_type": "stream",
     "text": [
      "Shape after reshaping:  (200, 200, 200)\n"
     ]
    }
   ],
   "source": [
    "nbins = 200\n",
    "tissue_vox = data.reshape(nbins, nbins, nbins)\n",
    "print('Shape after reshaping: ', tissue_vox.shape)"
   ]
  },
  {
   "cell_type": "code",
   "execution_count": 76,
   "metadata": {},
   "outputs": [
    {
     "name": "stdout",
     "output_type": "stream",
     "text": [
      "(200, 200)\n"
     ]
    },
    {
     "data": {
      "text/plain": [
       "<matplotlib.image.AxesImage at 0x1377c54a8>"
      ]
     },
     "execution_count": 76,
     "metadata": {},
     "output_type": "execute_result"
    },
    {
     "data": {
      "image/png": "[encoded data removed]",
      "text/plain": [
       "<Figure size 432x288 with 1 Axes>"
      ]
     },
     "metadata": {
      "needs_background": "light"
     },
     "output_type": "display_data"
    }
   ],
   "source": [
    "xs = tissue_vox[:,:,190]\n",
    "print(xs.shape)\n",
    "fig = plt.figure()\n",
    "ax = fig.add_subplot(111)\n",
    "ax.imshow(xs, cmap='jet')"
   ]
  },
  {
   "cell_type": "code",
   "execution_count": 60,
   "metadata": {},
   "outputs": [
    {
     "name": "stdout",
     "output_type": "stream",
     "text": [
      "(200,)\n"
     ]
    }
   ],
   "source": [
    "xs = tissue_vox[:,1,1]\n",
    "print(xs.shape)"
   ]
  },
  {
   "cell_type": "code",
   "execution_count": 64,
   "metadata": {},
   "outputs": [
    {
     "name": "stdout",
     "output_type": "stream",
     "text": [
      "(25, 25)\n"
     ]
    }
   ],
   "source": [
    "z_data = pd.read_csv('https://raw.githubusercontent.com/plotly/datasets/master/api_docs/mt_bruno_elevation.csv')\n",
    "print(z_data.shape)"
   ]
  },
  {
   "cell_type": "markdown",
   "metadata": {},
   "source": [
    "#### Run `mcxyz` from system \n",
    "\n",
    "Watch out for exit code 0 and progress accordingly. If the error code is 0, that usually means that the process exited without errors."
   ]
  },
  {
   "cell_type": "code",
   "execution_count": 11,
   "metadata": {},
   "outputs": [
    {
     "name": "stdout",
     "output_type": "stream",
     "text": [
      "<class 'str'>\n"
     ]
    }
   ],
   "source": [
    "tissue = 'skinvessel-500'\n",
    "cmd = './mcxyz ' + tissue\n",
    "print(type(cmd))"
   ]
  },
  {
   "cell_type": "code",
   "execution_count": 12,
   "metadata": {},
   "outputs": [
    {
     "name": "stdout",
     "output_type": "stream",
     "text": [
      "error code: 2 ...exiting computation!\n"
     ]
    }
   ],
   "source": [
    "d = os.system(cmd)\n",
    "print('error code:', d, '...exiting computation!')"
   ]
  },
  {
   "cell_type": "code",
   "execution_count": 4,
   "metadata": {},
   "outputs": [
    {
     "data": {
      "text/plain": [
       "2"
      ]
     },
     "execution_count": 4,
     "metadata": {},
     "output_type": "execute_result"
    }
   ],
   "source": [
    "# system call to mcxyz\n",
    "\n",
    "for i in range(len(tissuelist)):\n",
    "    tissue = tissuelist[i]\n",
    "    cmd = './mcxyz ' + tissue # command to parse to os.system\n",
    "    d = os.system(cmd) # d = os.system('./mcxyz skinvessel-500')\n",
    "    print('error code:', d, '...no errors!')\n",
    "    if d != 0:\n",
    "        print('error code:', d, '...exiting computation')\n",
    "        break\n"
   ]
  },
  {
   "cell_type": "code",
   "execution_count": 66,
   "metadata": {},
   "outputs": [
    {
     "name": "stdout",
     "output_type": "stream",
     "text": [
      "530.0 test_tissue_530\n",
      "531.0 test_tissue_531\n",
      "532.0 test_tissue_532\n",
      "533.0 test_tissue_533\n",
      "534.0 test_tissue_534\n",
      "535.0 test_tissue_535\n",
      "536.0 test_tissue_536\n",
      "537.0 test_tissue_537\n",
      "538.0 test_tissue_538\n",
      "539.0 test_tissue_539\n",
      "540.0 test_tissue_540\n"
     ]
    }
   ],
   "source": [
    "wave = pd.read_csv('wave.csv')\n",
    "for i in range(len(wave)):\n",
    "    print(float(wave['nm'][i]), 'test_tissue_'+str(wave['nm'][i]))"
   ]
  },
  {
   "cell_type": "code",
   "execution_count": 72,
   "metadata": {},
   "outputs": [
    {
     "name": "stdout",
     "output_type": "stream",
     "text": [
      "skinvessel_540\n"
     ]
    }
   ],
   "source": [
    "#tissueName = 'test_tissue_'+str(wave['nm'][i])+'_T.bin'\n",
    "tissueName = 'skinvessel_'+str(wave['nm'][i])\n",
    "print(tissueName)"
   ]
  },
  {
   "cell_type": "code",
   "execution_count": 73,
   "metadata": {},
   "outputs": [
    {
     "name": "stdout",
     "output_type": "stream",
     "text": [
      "<class 'numpy.ndarray'> , data shape:  (8000000,)\n"
     ]
    }
   ],
   "source": [
    "dt = np.ubyte \n",
    "data = np.fromfile(tissueName+'_T.bin', dtype=dt)\n",
    "print(type(data), ', data shape: ', data.shape)"
   ]
  },
  {
   "cell_type": "code",
   "execution_count": 86,
   "metadata": {},
   "outputs": [
    {
     "name": "stdout",
     "output_type": "stream",
     "text": [
      "200.0\n"
     ]
    }
   ],
   "source": [
    "print(np.cbrt(data.shape[0]))"
   ]
  },
  {
   "cell_type": "code",
   "execution_count": 84,
   "metadata": {},
   "outputs": [
    {
     "name": "stdout",
     "output_type": "stream",
     "text": [
      "Tissue structure successfully visualized!\n"
     ]
    }
   ],
   "source": [
    "#from tqdm import tqdm_notebook\n",
    "nm = 530\n",
    "eng = mateng.start_matlab()\n",
    "\n",
    "for i in range(10):\n",
    "    nm += i\n",
    "    tissueName = 'test_tissue_'+str(nm)\n",
    "    lk = eng.lookfluence(float(nm), tissueName, nargout=1)\n",
    "\n",
    "    if lk == 1:\n",
    "        print('Tissue structure successfully visualized!')\n",
    "    else:\n",
    "        print('Possible error, check look.m code in MATLAB!')\n",
    "\n",
    "eng.quit()"
   ]
  },
  {
   "cell_type": "markdown",
   "metadata": {},
   "source": [
    "#### Converting output fluence maps per wavelength to movie"
   ]
  },
  {
   "cell_type": "code",
   "execution_count": 8,
   "metadata": {},
   "outputs": [
    {
     "name": "stdout",
     "output_type": "stream",
     "text": [
      "tissue_530_Fzx.jpg\n",
      "tissue_531_Fzx.jpg\n",
      "875 1167 3\n"
     ]
    }
   ],
   "source": [
    "#wave = pd.read_csv('wave2.csv')\n",
    "img=[]\n",
    "\n",
    "for i in range(len(wave)):\n",
    "    tissueName = 'tissue_'+str(wave['nm'][i])+'_Fzx.jpg' # '_Fzy.jpg'\n",
    "    print(tissueName)\n",
    "    img.append(cv2.imread(tissueName))\n",
    "\n",
    "height,width,layers=img[1].shape\n",
    "\n",
    "video=cv2.VideoWriter('fluence.mp4',-1,1,(width,height))\n",
    "\n",
    "for j in range(0,2):\n",
    "    video.write(img[j])\n",
    "\n",
    "cv2.destroyAllWindows()\n",
    "video.release()"
   ]
  },
  {
   "cell_type": "code",
   "execution_count": null,
   "metadata": {},
   "outputs": [],
   "source": [
    "wave = pd.read_csv('wave2.csv')\n",
    "\n",
    "for i in tqdm(range(len(wave))):\n",
    "    tissueName = 'test_tiss_'+str(wave['nm'][i])\n",
    "    cmd = './mcxyz ' + tissueName\n",
    "    d = os.system(cmd)\n",
    "    print('Error Code:', d, '...No errors!')\n",
    "    if d != 0:\n",
    "        print('Error Code:', d, '...exiting computation')\n",
    "        break "
   ]
  },
  {
   "cell_type": "code",
   "execution_count": 66,
   "metadata": {},
   "outputs": [
    {
     "name": "stdout",
     "output_type": "stream",
     "text": [
      "approximate total simulation time: 60.0 minutes, 1.0 hours.\n",
      "running simulation batch >>  1 for wavelengths @  [0, 1, 2, 3, 4, 5]\n",
      "running simulation batch >>  2 for wavelengths @  [6, 7, 8, 9, 10, 11]\n",
      "running simulation batch >>  3 for wavelengths @  [12, 13, 14, 15, 16, 17]\n",
      "running simulation batch >>  4 for wavelengths @  [18, 19, 20, 21, 22, 23]\n",
      "running simulation batch >>  5 for wavelengths @  [24, 25, 26, 27, 28, 29]\n",
      "running simulation batch >>  6 for wavelengths @  [30, 31, 32, 33, 34, 35]\n",
      "-------- END ---------\n"
     ]
    }
   ],
   "source": [
    "NUM_PROC = 6 # NUM OF PROCESSES\n",
    "LEN_WAVE = 36 # LENGTH OF WAVE >> NUMBER OF WAVELENGTH VARIABLES\n",
    "\n",
    "print(f'approximate total simulation time: {np.ceil(LEN_WAVE/NUM_PROC) * 10} minutes, {np.ceil(LEN_WAVE/NUM_PROC) * 10 / 60} hours.')\n",
    "for i in range(0, LEN_WAVE, NUM_PROC):\n",
    "    #print('running simulation batch: ', int((i+NUM_PROC)/NUM_PROC))\n",
    "    if i+NUM_PROC < LEN_WAVE:\n",
    "        rng = range(i, i+NUM_PROC)\n",
    "    elif LEN_WAVE-i <= NUM_PROC:\n",
    "        rng = range(i, LEN_WAVE)\n",
    "        \n",
    "    print('running simulation batch >> ', int((i+NUM_PROC)/NUM_PROC), ', for wavelengths @ ', list(rng))\n",
    "\n",
    "print(\"---------------- END -----------------\")"
   ]
  },
  {
   "cell_type": "code",
   "execution_count": 61,
   "metadata": {},
   "outputs": [
    {
     "name": "stdout",
     "output_type": "stream",
     "text": [
      "44.0\n"
     ]
    }
   ],
   "source": [
    "print(np.ceil(LEN_WAVE/NUM_PROC))"
   ]
  },
  {
   "cell_type": "code",
   "execution_count": null,
   "metadata": {},
   "outputs": [],
   "source": []
  },
  {
   "cell_type": "code",
   "execution_count": null,
   "metadata": {},
   "outputs": [],
   "source": []
  },
  {
   "cell_type": "code",
   "execution_count": null,
   "metadata": {},
   "outputs": [],
   "source": []
  },
  {
   "cell_type": "code",
   "execution_count": null,
   "metadata": {},
   "outputs": [],
   "source": []
  },
  {
   "cell_type": "code",
   "execution_count": null,
   "metadata": {},
   "outputs": [],
   "source": []
  }
 ],
 "metadata": {
  "kernelspec": {
   "display_name": "Python 3",
   "language": "python",
   "name": "python3"
  },
  "language_info": {
   "codemirror_mode": {
    "name": "ipython",
    "version": 3
   },
   "file_extension": ".py",
   "mimetype": "text/x-python",
   "name": "python",
   "nbconvert_exporter": "python",
   "pygments_lexer": "ipython3",
   "version": "3.6.9"
  }
 },
 "nbformat": 4,
 "nbformat_minor": 4
}
